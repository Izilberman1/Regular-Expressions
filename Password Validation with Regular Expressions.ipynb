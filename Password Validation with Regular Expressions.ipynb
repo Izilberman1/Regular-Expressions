{
 "cells": [
  {
   "cell_type": "code",
   "execution_count": 6,
   "id": "a448ddb6",
   "metadata": {},
   "outputs": [
    {
     "name": "stdout",
     "output_type": "stream",
     "text": [
      "<re.Match object; span=(0, 18), match='hgrngjshgtd7768%$8'>\n"
     ]
    }
   ],
   "source": [
    "import re\n",
    "\n",
    "pattern = re.compile(\"(^a-zA-Z0-9_.+-]+@[a-zA-Z0-9-]+\\.[a-zA-Z0-9-.]+$)\")\n",
    "string = 'Itamar'\n",
    "pattern2 = re.compile(r\"[A-Za-z0-9$%#@]{8,}\\d\")\n",
    "password = 'hgrngjshgtd7768%$8' #The correct password requirements will result in character length and match.\n",
    "\n",
    "a = pattern.search(string)\n",
    "check = pattern2.fullmatch(password)\n",
    "print(check)\n",
    "\n",
    "# at least 8 characters long.\n",
    "# contain any sort of letter, number, and symbols.\n",
    "# must end with a number."
   ]
  },
  {
   "cell_type": "code",
   "execution_count": 7,
   "id": "04cdd849",
   "metadata": {},
   "outputs": [
    {
     "name": "stdout",
     "output_type": "stream",
     "text": [
      "None\n"
     ]
    }
   ],
   "source": [
    "import re\n",
    "\n",
    "pattern = re.compile(\"(^a-zA-Z0-9_.+-]+@[a-zA-Z0-9-]+\\.[a-zA-Z0-9-.]+$)\")\n",
    "string = 'Itamar'\n",
    "pattern2 = re.compile(r\"[A-Za-z0-9$%#@]{8,}\\d\")\n",
    "password = 'hgrngjshgtd7768%$8g' #as soon as we add a letter at the end we get NONE. \n",
    "\n",
    "a = pattern.search(string)\n",
    "check = pattern2.fullmatch(password)\n",
    "print(check)\n",
    "\n",
    "# at least 8 characters long.\n",
    "# contain any sort of letter, number, and symbols.\n",
    "# must end with a number."
   ]
  },
  {
   "cell_type": "code",
   "execution_count": null,
   "id": "97cd827b",
   "metadata": {},
   "outputs": [],
   "source": []
  }
 ],
 "metadata": {
  "kernelspec": {
   "display_name": "Python 3 (ipykernel)",
   "language": "python",
   "name": "python3"
  },
  "language_info": {
   "codemirror_mode": {
    "name": "ipython",
    "version": 3
   },
   "file_extension": ".py",
   "mimetype": "text/x-python",
   "name": "python",
   "nbconvert_exporter": "python",
   "pygments_lexer": "ipython3",
   "version": "3.9.13"
  }
 },
 "nbformat": 4,
 "nbformat_minor": 5
}
